{
  "nbformat": 4,
  "nbformat_minor": 0,
  "metadata": {
    "colab": {
      "name": "GenerateCharacter",
      "version": "0.3.2",
      "provenance": [],
      "include_colab_link": true
    },
    "kernelspec": {
      "name": "python3",
      "display_name": "Python 3"
    }
  },
  "cells": [
    {
      "cell_type": "markdown",
      "metadata": {
        "id": "view-in-github",
        "colab_type": "text"
      },
      "source": [
        "<a href=\"https://colab.research.google.com/github/phattarin-kitbumrung/BasicPythonProgrammingForDataScienceWithGoogleCo-Lab/blob/master/GenerateCharacter.ipynb\" target=\"_parent\"><img src=\"https://colab.research.google.com/assets/colab-badge.svg\" alt=\"Open In Colab\"/></a>"
      ]
    },
    {
      "cell_type": "code",
      "metadata": {
        "id": "GCyoSakhprep",
        "colab_type": "code",
        "colab": {}
      },
      "source": [
        "## data ##\n",
        "mycharset =\t{\n",
        "  1: \"A\", 2: \"B\", 3: \"C\", 4: \"D\", 5: \"E\",\n",
        "  6: \"F\", 7: \"G\", 8: \"H\", 9: \"I\", 10: \"J\",\n",
        "  11: \"K\", 12: \"L\", 13: \"M\", 14: \"N\", 15: \"O\",\n",
        "  16: \"P\", 17: \"Q\", 18: \"R\", 19: \"S\", 20: \"T\",\n",
        "  21: \"U\", 22: \"V\", 23: \"W\", 24: \"X\", 25: \"Y\", 26: \"Z\"\n",
        "}\n",
        "\n",
        "\n",
        "# input ##\n",
        "num = int(input()) \n",
        "if num>0 and num<27:\n",
        " print(\"result: \"+ mycharset[num])\n",
        "elif num>26 and num<100:\n",
        " numstring = str(num)\n",
        " num = int(numstring[0]) + int(numstring[1])\n",
        " print(\"result: \"+ mycharset[num])\n",
        "else:\n",
        " print(\"Try Again!\")\n"
      ],
      "execution_count": 0,
      "outputs": []
    },
    {
      "cell_type": "code",
      "metadata": {
        "id": "E-71LtxBweJe",
        "colab_type": "code",
        "colab": {}
      },
      "source": [
        ""
      ],
      "execution_count": 0,
      "outputs": []
    }
  ]
}